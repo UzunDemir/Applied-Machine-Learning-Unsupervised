{
  "cells": [
    {
      "cell_type": "markdown",
      "metadata": {
        "id": "view-in-github",
        "colab_type": "text"
      },
      "source": [
        "<a href=\"https://colab.research.google.com/github/UzunDemir/Applied-Machine-Learning-Unsupervised/blob/main/google_colab_setup.ipynb\" target=\"_parent\"><img src=\"https://colab.research.google.com/assets/colab-badge.svg\" alt=\"Open In Colab\"/></a>"
      ]
    },
    {
      "cell_type": "markdown",
      "id": "d929f08b",
      "metadata": {
        "id": "d929f08b"
      },
      "source": [
        "# Author's Notes\n",
        "\n",
        "For those that would like to use Google Colab (instead of working on your local machine), please follow the instructions in this notebook to set up your environment.\n",
        "\n",
        "Once you finish this setup, you will see a folder called \"github\" in your Google Drive. This \"github\" folder has the \"handson-unsupervised-learning\" repo ready for you to use in Colab.\n",
        "\n",
        "You can access these notebooks quickly using the **Access Notebooks** link at the end of this notebook."
      ]
    },
    {
      "cell_type": "markdown",
      "id": "4284453e",
      "metadata": {
        "id": "4284453e"
      },
      "source": [
        "# Set up Google Colab"
      ]
    },
    {
      "cell_type": "code",
      "execution_count": 1,
      "id": "afe2c8a2",
      "metadata": {
        "id": "afe2c8a2"
      },
      "outputs": [],
      "source": [
        "# Define functions to connect to Google and change directories\n",
        "def connectDrive():\n",
        "    from google.colab import drive\n",
        "    drive.mount('/content/drive', force_remount=True)\n",
        "\n",
        "def changeDirectory(path):\n",
        "    import os\n",
        "    original_path = os.getcwd()\n",
        "    os.chdir(path)\n",
        "    new_path = os.getcwd()\n",
        "    print(\"Original path: \",original_path)\n",
        "    print(\"New path: \",new_path)"
      ]
    },
    {
      "cell_type": "code",
      "execution_count": 2,
      "id": "89389226",
      "metadata": {
        "colab": {
          "base_uri": "https://localhost:8080/"
        },
        "id": "89389226",
        "outputId": "85bb507d-18df-4ccd-f5a4-c577b13dcb30"
      },
      "outputs": [
        {
          "output_type": "stream",
          "name": "stdout",
          "text": [
            "Mounted at /content/drive\n",
            "Original path:  /content\n",
            "New path:  /content/drive/My Drive/github\n"
          ]
        }
      ],
      "source": [
        "# Connect to Google Drive\n",
        "connectDrive()\n",
        "\n",
        "# Change path\n",
        "import os\n",
        "if os.path.isfile(\"/content/drive/My Drive/github\"):\n",
        "    pass\n",
        "else:\n",
        "    !mkdir \"/content/drive/My Drive/github\"\n",
        "\n",
        "changeDirectory(\"/content/drive/My Drive/github\")"
      ]
    },
    {
      "cell_type": "code",
      "execution_count": 3,
      "id": "0c085781",
      "metadata": {
        "colab": {
          "base_uri": "https://localhost:8080/"
        },
        "id": "0c085781",
        "outputId": "7a4182ac-c2dd-4315-f561-b0386c73161d"
      },
      "outputs": [
        {
          "output_type": "stream",
          "name": "stdout",
          "text": [
            "Cloning into 'handson-unsupervised-learning'...\n",
            "remote: Enumerating objects: 612, done.\u001b[K\n",
            "remote: Counting objects: 100% (103/103), done.\u001b[K\n",
            "remote: Compressing objects: 100% (34/34), done.\u001b[K\n",
            "remote: Total 612 (delta 83), reused 69 (delta 69), pack-reused 509\u001b[K\n",
            "Receiving objects: 100% (612/612), 103.44 MiB | 15.62 MiB/s, done.\n",
            "Resolving deltas: 100% (140/140), done.\n",
            "Checking out files: 100% (308/308), done.\n"
          ]
        }
      ],
      "source": [
        "# Clone Git repo\n",
        "!git clone https://github.com/aapatel09/handson-unsupervised-learning.git"
      ]
    },
    {
      "cell_type": "code",
      "execution_count": 4,
      "id": "6b5407e4",
      "metadata": {
        "colab": {
          "base_uri": "https://localhost:8080/"
        },
        "id": "6b5407e4",
        "outputId": "d9aadae8-e484-4e47-a359-d295ee1ebdf7"
      },
      "outputs": [
        {
          "output_type": "stream",
          "name": "stdout",
          "text": [
            "/content/drive/My Drive/github/handson-unsupervised-learning\n"
          ]
        }
      ],
      "source": [
        "# Access repo\n",
        "%cd handson-unsupervised-learning"
      ]
    },
    {
      "cell_type": "code",
      "execution_count": 5,
      "id": "834d721c",
      "metadata": {
        "colab": {
          "base_uri": "https://localhost:8080/"
        },
        "id": "834d721c",
        "outputId": "1a1ede98-b06d-42f0-ae97-68511829ff06"
      },
      "outputs": [
        {
          "output_type": "stream",
          "name": "stdout",
          "text": [
            "Looking in indexes: https://pypi.org/simple, https://us-python.pkg.dev/colab-wheels/public/simple/\n",
            "Collecting awscli==1.19.28\n",
            "  Downloading awscli-1.19.28-py2.py3-none-any.whl (3.6 MB)\n",
            "\u001b[2K     \u001b[90m━━━━━━━━━━━━━━━━━━━━━━━━━━━━━━━━━━━━━━━━\u001b[0m \u001b[32m3.6/3.6 MB\u001b[0m \u001b[31m70.2 MB/s\u001b[0m eta \u001b[36m0:00:00\u001b[0m\n",
            "\u001b[?25hCollecting colorama<0.4.4,>=0.2.5\n",
            "  Downloading colorama-0.4.3-py2.py3-none-any.whl (15 kB)\n",
            "Collecting rsa<=4.5.0,>=3.1.2\n",
            "  Downloading rsa-4.5-py2.py3-none-any.whl (36 kB)\n",
            "Collecting s3transfer<0.4.0,>=0.3.0\n",
            "  Downloading s3transfer-0.3.7-py2.py3-none-any.whl (73 kB)\n",
            "\u001b[2K     \u001b[90m━━━━━━━━━━━━━━━━━━━━━━━━━━━━━━━━━━━━━━━━\u001b[0m \u001b[32m73.4/73.4 KB\u001b[0m \u001b[31m8.7 MB/s\u001b[0m eta \u001b[36m0:00:00\u001b[0m\n",
            "\u001b[?25hCollecting PyYAML<5.5,>=3.10\n",
            "  Downloading PyYAML-5.4.1-cp38-cp38-manylinux1_x86_64.whl (662 kB)\n",
            "\u001b[2K     \u001b[90m━━━━━━━━━━━━━━━━━━━━━━━━━━━━━━━━━━━━━━\u001b[0m \u001b[32m662.4/662.4 KB\u001b[0m \u001b[31m13.4 MB/s\u001b[0m eta \u001b[36m0:00:00\u001b[0m\n",
            "\u001b[?25hCollecting docutils<0.16,>=0.10\n",
            "  Downloading docutils-0.15.2-py3-none-any.whl (547 kB)\n",
            "\u001b[2K     \u001b[90m━━━━━━━━━━━━━━━━━━━━━━━━━━━━━━━━━━━━━━\u001b[0m \u001b[32m547.6/547.6 KB\u001b[0m \u001b[31m43.0 MB/s\u001b[0m eta \u001b[36m0:00:00\u001b[0m\n",
            "\u001b[?25hCollecting botocore==1.20.28\n",
            "  Downloading botocore-1.20.28-py2.py3-none-any.whl (7.3 MB)\n",
            "\u001b[2K     \u001b[90m━━━━━━━━━━━━━━━━━━━━━━━━━━━━━━━━━━━━━━━━\u001b[0m \u001b[32m7.3/7.3 MB\u001b[0m \u001b[31m78.9 MB/s\u001b[0m eta \u001b[36m0:00:00\u001b[0m\n",
            "\u001b[?25hRequirement already satisfied: python-dateutil<3.0.0,>=2.1 in /usr/local/lib/python3.8/dist-packages (from botocore==1.20.28->awscli==1.19.28) (2.8.2)\n",
            "Collecting urllib3<1.27,>=1.25.4\n",
            "  Downloading urllib3-1.26.13-py2.py3-none-any.whl (140 kB)\n",
            "\u001b[2K     \u001b[90m━━━━━━━━━━━━━━━━━━━━━━━━━━━━━━━━━━━━━━\u001b[0m \u001b[32m140.6/140.6 KB\u001b[0m \u001b[31m16.2 MB/s\u001b[0m eta \u001b[36m0:00:00\u001b[0m\n",
            "\u001b[?25hCollecting jmespath<1.0.0,>=0.7.1\n",
            "  Downloading jmespath-0.10.0-py2.py3-none-any.whl (24 kB)\n",
            "Requirement already satisfied: pyasn1>=0.1.3 in /usr/local/lib/python3.8/dist-packages (from rsa<=4.5.0,>=3.1.2->awscli==1.19.28) (0.4.8)\n",
            "Requirement already satisfied: six>=1.5 in /usr/local/lib/python3.8/dist-packages (from python-dateutil<3.0.0,>=2.1->botocore==1.20.28->awscli==1.19.28) (1.15.0)\n",
            "Installing collected packages: urllib3, rsa, PyYAML, jmespath, docutils, colorama, botocore, s3transfer, awscli\n",
            "  Attempting uninstall: urllib3\n",
            "    Found existing installation: urllib3 1.24.3\n",
            "    Uninstalling urllib3-1.24.3:\n",
            "      Successfully uninstalled urllib3-1.24.3\n",
            "  Attempting uninstall: rsa\n",
            "    Found existing installation: rsa 4.9\n",
            "    Uninstalling rsa-4.9:\n",
            "      Successfully uninstalled rsa-4.9\n",
            "  Attempting uninstall: PyYAML\n",
            "    Found existing installation: PyYAML 6.0\n",
            "    Uninstalling PyYAML-6.0:\n",
            "      Successfully uninstalled PyYAML-6.0\n",
            "  Attempting uninstall: docutils\n",
            "    Found existing installation: docutils 0.17.1\n",
            "    Uninstalling docutils-0.17.1:\n",
            "      Successfully uninstalled docutils-0.17.1\n",
            "Successfully installed PyYAML-5.4.1 awscli-1.19.28 botocore-1.20.28 colorama-0.4.3 docutils-0.15.2 jmespath-0.10.0 rsa-4.5 s3transfer-0.3.7 urllib3-1.26.13\n"
          ]
        }
      ],
      "source": [
        "# Install libraries\n",
        "!pip install awscli==1.19.28"
      ]
    },
    {
      "cell_type": "code",
      "execution_count": 6,
      "id": "47dca694",
      "metadata": {
        "colab": {
          "base_uri": "https://localhost:8080/"
        },
        "id": "47dca694",
        "outputId": "c74aeedb-49b5-4346-b8e4-57f8f4de7335"
      },
      "outputs": [
        {
          "output_type": "stream",
          "name": "stdout",
          "text": [
            "Completed 5.0 KiB/234.1 MiB (29.6 KiB/s) with 20 file(s) remaining\rCompleted 9.3 KiB/234.1 MiB (52.6 KiB/s) with 20 file(s) remaining\rdownload: s3://handson-unsupervised-learning/datasets/fashion_mnist_data/t10k-labels-idx1-ubyte.gz to datasets/fashion_mnist_data/t10k-labels-idx1-ubyte.gz\n",
            "Completed 9.3 KiB/234.1 MiB (52.6 KiB/s) with 19 file(s) remaining\rdownload: s3://handson-unsupervised-learning/datasets/credit_card_data/correlationMatrix.csv to datasets/credit_card_data/correlationMatrix.csv\n",
            "Completed 9.3 KiB/234.1 MiB (52.6 KiB/s) with 18 file(s) remaining\rCompleted 265.3 KiB/234.1 MiB (1.1 MiB/s) with 18 file(s) remaining\rCompleted 294.1 KiB/234.1 MiB (1.2 MiB/s) with 18 file(s) remaining\rCompleted 550.1 KiB/234.1 MiB (2.2 MiB/s) with 18 file(s) remaining\rCompleted 806.1 KiB/234.1 MiB (3.1 MiB/s) with 18 file(s) remaining\rCompleted 829.1 KiB/234.1 MiB (3.2 MiB/s) with 18 file(s) remaining\rdownload: s3://handson-unsupervised-learning/datasets/fashion_mnist_data/train-labels-idx1-ubyte.gz to datasets/fashion_mnist_data/train-labels-idx1-ubyte.gz\n",
            "download: s3://handson-unsupervised-learning/datasets/lending_club_data/LCDataDictionary.xlsx to datasets/lending_club_data/LCDataDictionary.xlsx\n",
            "download: s3://handson-unsupervised-learning/datasets/fashion_mnist_data/t10k-images-idx3-ubyte.gz to datasets/fashion_mnist_data/t10k-images-idx3-ubyte.gz\n",
            "download: s3://handson-unsupervised-learning/datasets/mnist_data/t10k-images-idx3-ubyte.gz to datasets/mnist_data/t10k-images-idx3-ubyte.gz\n",
            "download: s3://handson-unsupervised-learning/datasets/mnist_data/train-labels-idx1-ubyte.gz to datasets/mnist_data/train-labels-idx1-ubyte.gz\n",
            "download: s3://handson-unsupervised-learning/datasets/movielens_data/README.md to datasets/movielens_data/README.md\n",
            "download: s3://handson-unsupervised-learning/datasets/pickled_data/README.md to datasets/pickled_data/README.md\n",
            "download: s3://handson-unsupervised-learning/datasets/mnist_data/t10k-labels-idx1-ubyte.gz to datasets/mnist_data/t10k-labels-idx1-ubyte.gz\n",
            "download: s3://handson-unsupervised-learning/datasets/ucr_time_series_data/ECGFiveDays/ECGFiveDays_TRAIN to datasets/ucr_time_series_data/ECGFiveDays/ECGFiveDays_TRAIN\n",
            "download: s3://handson-unsupervised-learning/datasets/ucr_time_series_data/README.md to datasets/ucr_time_series_data/README.md\n",
            "download: s3://handson-unsupervised-learning/datasets/ucr_time_series_data/ECGFiveDays/ECGFiveDays_TEST to datasets/ucr_time_series_data/ECGFiveDays/ECGFiveDays_TEST\n",
            "download: s3://handson-unsupervised-learning/datasets/ucr_time_series_data/ECG5000/ECG5000_TRAIN to datasets/ucr_time_series_data/ECG5000/ECG5000_TRAIN\n",
            "download: s3://handson-unsupervised-learning/datasets/ucr_time_series_data/ECG5000/ECG5000_TEST to datasets/ucr_time_series_data/ECG5000/ECG5000_TEST\n",
            "download: s3://handson-unsupervised-learning/datasets/fashion_mnist_data/train-images-idx3-ubyte.gz to datasets/fashion_mnist_data/train-images-idx3-ubyte.gz\n",
            "download: s3://handson-unsupervised-learning/datasets/credit_card_data/credit_card.csv to datasets/credit_card_data/credit_card.csv\n",
            "download: s3://handson-unsupervised-learning/datasets/lending_club_data/LoanStats3a.csv to datasets/lending_club_data/LoanStats3a.csv\n",
            "download: s3://handson-unsupervised-learning/datasets/mnist_data/mnist.pkl.gz to datasets/mnist_data/mnist.pkl.gz\n",
            "download: s3://handson-unsupervised-learning/datasets/mnist_data/train-images-idx3-ubyte.gz to datasets/mnist_data/train-images-idx3-ubyte.gz\n"
          ]
        }
      ],
      "source": [
        "# Download data from AWS S3\n",
        "!aws s3 cp s3://handson-unsupervised-learning/datasets/ datasets --recursive --no-sign-request"
      ]
    },
    {
      "cell_type": "markdown",
      "id": "7989a4dc",
      "metadata": {
        "id": "7989a4dc"
      },
      "source": [
        "# [Access Notebooks](https://colab.research.google.com/github/aapatel09/handson-unsupervised-learning/blob/master/)"
      ]
    }
  ],
  "metadata": {
    "kernelspec": {
      "display_name": "Python [conda env:unsupervisedLearning] *",
      "language": "python",
      "name": "conda-env-unsupervisedLearning-py"
    },
    "language_info": {
      "codemirror_mode": {
        "name": "ipython",
        "version": 3
      },
      "file_extension": ".py",
      "mimetype": "text/x-python",
      "name": "python",
      "nbconvert_exporter": "python",
      "pygments_lexer": "ipython3",
      "version": "3.8.8"
    },
    "colab": {
      "provenance": [],
      "include_colab_link": true
    }
  },
  "nbformat": 4,
  "nbformat_minor": 5
}